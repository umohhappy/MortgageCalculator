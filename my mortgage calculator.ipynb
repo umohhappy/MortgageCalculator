{
 "cells": [
  {
   "cell_type": "code",
   "execution_count": 11,
   "id": "513bfff4-a7ce-47b8-a8bc-a69f1f948be3",
   "metadata": {},
   "outputs": [
    {
     "name": "stdout",
     "output_type": "stream",
     "text": [
      "<bound method Kernel.raw_input of <ipykernel.ipkernel.IPythonKernel object at 0x000002283C01F4F0>>\n"
     ]
    },
    {
     "name": "stdin",
     "output_type": "stream",
     "text": [
      "Enter Principal amount: $ 1000000\n",
      "Enter the annual interest:   7.5\n",
      "Enter time:   30\n"
     ]
    },
    {
     "name": "stdout",
     "output_type": "stream",
     "text": [
      "$ 6992.15\n",
      "$ 2517172.23\n",
      "result\n",
      "For a 30 year mortgage loan that you took of $1000000\n",
      "at an annual interest rate of 7.5\n",
      "you pay$6992.15 monthly\n"
     ]
    }
   ],
   "source": [
    " #This program calculates the balance on the amount of a compound interest\n",
    "# We can call it a mortgage calculator \n",
    "\n",
    "# input is entered for the principal, interest and time. Thus,\n",
    "\n",
    "print(input)\n",
    "\n",
    "\n",
    "principal=float (input(\"Enter Principal amount: $\"))\n",
    "    \n",
    "\n",
    "# The annual interest is divided by 12 months in a year. \n",
    "annual_interest =float(input(\"Enter the annual interest:  \"))/100/12\n",
    "\n",
    "\n",
    "# The time is entered in months.\n",
    "time =int(input(\"Enter time:  \"))*12\n",
    "\n",
    "\n",
    "#calculation of monthly payment \n",
    "monthly_payment=principal*(annual_interest*(1+ annual_interest)**time)/((1+annual_interest)**time-1)\n",
    "print(\"$\", \"{:.2f}\".format (monthly_payment))\n",
    "\n",
    "\n",
    "# Calculation of total amount of money paid \n",
    "total_amount_paid=monthly_payment*time\n",
    "print(\"$\", \"{:.2f}\".format (total_amount_paid))\n",
    "\n",
    "# Here is the final result \n",
    "\n",
    "print (\"result\")\n",
    "\n",
    "print(\"For a 30 year mortgage loan that you took of $1000000\")\n",
    "print(\"at an annual interest rate of 7.5\")\n",
    "print(\"you pay $%.2f monthly\" % monthly_payment)\n",
    "\n",
    "\n"
   ]
  },
  {
   "cell_type": "code",
   "execution_count": null,
   "id": "7e9771ae-2927-421f-a101-9c0541b8ad86",
   "metadata": {},
   "outputs": [],
   "source": []
  }
 ],
 "metadata": {
  "kernelspec": {
   "display_name": "Python 3 (ipykernel)",
   "language": "python",
   "name": "python3"
  },
  "language_info": {
   "codemirror_mode": {
    "name": "ipython",
    "version": 3
   },
   "file_extension": ".py",
   "mimetype": "text/x-python",
   "name": "python",
   "nbconvert_exporter": "python",
   "pygments_lexer": "ipython3",
   "version": "3.9.13"
  }
 },
 "nbformat": 4,
 "nbformat_minor": 5
}
